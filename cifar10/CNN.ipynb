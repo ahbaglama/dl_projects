{
 "cells": [
  {
   "attachments": {},
   "cell_type": "markdown",
   "metadata": {},
   "source": [
    "## Findings\n",
    "\n",
    "  In my exploration of implementing a Convolutional Neural Network (CNN) on the CIFAR-10 dataset, I experimented with different hyperparameters to optimize performance.\n",
    "\n",
    "  I found that increasing the learning rate beyond 0.01 actually caused a decrease in performance. It became apparent that a smaller learning rate is more conducive to better convergence during training.\n",
    "\n",
    "  Similarly, when I extended the number of epochs beyond 10, I observed diminishing returns and even a decline in performance. \n",
    "\n",
    "  I decided that dropout regularization wasn't necessary for my model since it wasn't overfitting. This suggested that the complexity of my model didn't warrant additional regularization techniques.\n",
    "\n",
    "  Lastly, when I experimented with increasing the number of layers, I didn't observe any improvement in performance. In fact, it seemed that the computational cost and training time associated with deeper networks outweighed any potential benefits.\n",
    "\n",
    "  In summary, my findings indicate that for my CNN model on the CIFAR-10 dataset, a smaller learning rate, a moderate number of epochs, and a simpler model architecture without dropout regularization or excessive layer depth yield optimal performance.\n"
   ]
  },
  {
   "cell_type": "code",
   "execution_count": 16,
   "metadata": {
    "id": "4noh65qHKStq"
   },
   "outputs": [],
   "source": [
    "import torch\n",
    "\n",
    "import torchvision\n",
    "\n",
    "from torchvision import transforms\n",
    "\n",
    "import torch.nn as nn\n",
    "\n",
    "import torch.optim as optim\n",
    "from torchvision import datasets\n",
    "from matplotlib import pyplot as plt"
   ]
  },
  {
   "cell_type": "code",
   "execution_count": 2,
   "metadata": {
    "id": "BLtPnZ5JKUYF"
   },
   "outputs": [],
   "source": [
    "# Define transformations, normalizing and applying random horizontal flips\n",
    "\n",
    "transform = transforms.Compose([\n",
    "    transforms.RandomHorizontalFlip(),  \n",
    "    transforms.ToTensor(),\n",
    "    transforms.Normalize((0.5, 0.5, 0.5), (0.5, 0.5, 0.5))\n",
    "])"
   ]
  },
  {
   "cell_type": "code",
   "execution_count": 3,
   "metadata": {
    "colab": {
     "base_uri": "https://localhost:8080/"
    },
    "id": "FmT1EKq_KWMO",
    "outputId": "4808de65-3717-426e-a2de-c8ae4b24eedc"
   },
   "outputs": [
    {
     "name": "stdout",
     "output_type": "stream",
     "text": [
      "Downloading https://www.cs.toronto.edu/~kriz/cifar-10-python.tar.gz to ./data/cifar-10-python.tar.gz\n"
     ]
    },
    {
     "name": "stderr",
     "output_type": "stream",
     "text": [
      "100%|██████████| 170498071/170498071 [00:02<00:00, 62721961.30it/s]\n"
     ]
    },
    {
     "name": "stdout",
     "output_type": "stream",
     "text": [
      "Extracting ./data/cifar-10-python.tar.gz to ./data\n",
      "Files already downloaded and verified\n"
     ]
    }
   ],
   "source": [
    "# Downloading CIFAR-10 training and test dataset\n",
    "\n",
    "trainset = torchvision.datasets.CIFAR10(root='./data', train=True, download=True, transform=transform)\n",
    "\n",
    "testset = torchvision.datasets.CIFAR10(root='./data', train=False, download=True, transform=transform)"
   ]
  },
  {
   "cell_type": "code",
   "execution_count": 4,
   "metadata": {
    "id": "up5yKXXeKXt4"
   },
   "outputs": [],
   "source": [
    "#Implementing CNN model\n",
    "\n",
    "class CNN(nn.Module):\n",
    "    def __init__(self):\n",
    "        super(CNN, self).__init__()\n",
    "\n",
    "        # Convolutional layers \n",
    "        self.conv1 = nn.Conv2d(in_channels=3, out_channels=32, kernel_size=3, padding=1)\n",
    "        self.conv2 = nn.Conv2d(in_channels=32, out_channels=64, kernel_size=3, padding=1)\n",
    "        self.conv3 = nn.Conv2d(in_channels=64, out_channels=128, kernel_size=3, padding=1)\n",
    "\n",
    "        # Max pooling layer\n",
    "        self.pool = nn.MaxPool2d(kernel_size=2, stride=2)\n",
    "\n",
    "        # Fully connected layers \n",
    "        self.fc1 = nn.Linear(128 * 4 * 4, 512) \n",
    "        self.fc2 = nn.Linear(512, 256)\n",
    "        self.fc3 = nn.Linear(256, 10)  # 10 classes in CIFAR-10 dataset\n",
    "\n",
    "        # Activation functions\n",
    "        self.relu = nn.ReLU()\n",
    "        self.softmax = nn.Softmax(dim=1)\n",
    "\n",
    "    def forward(self, x):\n",
    "        # Feature extraction\n",
    "        x = self.relu(self.conv1(x))\n",
    "        x = self.pool(x)\n",
    "        x = self.relu(self.conv2(x))\n",
    "        x = self.pool(x)\n",
    "        x = self.relu(self.conv3(x))\n",
    "        x = self.pool(x)\n",
    "\n",
    "        # Flatten the tensor for fully connected layers\n",
    "        x = x.view(-1, 128 * 4 * 4)\n",
    "\n",
    "        # Classification\n",
    "        x = self.relu(self.fc1(x))\n",
    "        x = self.relu(self.fc2(x))\n",
    "        x = self.fc3(x)\n",
    "\n",
    "        # Softmax activation for class probabilities\n",
    "        x = self.softmax(x)\n",
    "\n",
    "        return x\n"
   ]
  },
  {
   "cell_type": "code",
   "execution_count": 10,
   "metadata": {
    "id": "cG5lmhMNKZMt"
   },
   "outputs": [],
   "source": [
    "# Hyperparameters\n",
    "num_epochs = 10\n",
    "batch_size = 64\n",
    "learning_rate=0.001"
   ]
  },
  {
   "cell_type": "code",
   "execution_count": 11,
   "metadata": {
    "id": "eVqAhuAmKcZG"
   },
   "outputs": [],
   "source": [
    "trainloader = torch.utils.data.DataLoader(trainset, batch_size=batch_size, shuffle=True)\n",
    "testloader = torch.utils.data.DataLoader(testset, batch_size=batch_size, shuffle=False)\n"
   ]
  },
  {
   "cell_type": "code",
   "execution_count": 12,
   "metadata": {
    "id": "SAxO7E3ZKcod"
   },
   "outputs": [],
   "source": [
    "model = CNN()\n",
    "criterion = nn.CrossEntropyLoss()\n",
    "optimizer = optim.Adam(model.parameters(), lr=learning_rate)"
   ]
  },
  {
   "cell_type": "code",
   "execution_count": 13,
   "metadata": {
    "colab": {
     "base_uri": "https://localhost:8080/"
    },
    "id": "rNFlLB8jKe1z",
    "outputId": "4ba5bbf6-8bcb-433a-bd6e-d38bd07d9421"
   },
   "outputs": [
    {
     "name": "stdout",
     "output_type": "stream",
     "text": [
      "Epoch [1/10], Step [100/782], Loss: 2.2407, Accuracy: 19.59%\n",
      "Epoch [1/10], Step [200/782], Loss: 2.1435, Accuracy: 25.35%\n",
      "Epoch [1/10], Step [300/782], Loss: 2.1173, Accuracy: 28.06%\n",
      "Epoch [1/10], Step [400/782], Loss: 2.0913, Accuracy: 30.07%\n",
      "Epoch [1/10], Step [500/782], Loss: 2.0838, Accuracy: 31.47%\n",
      "Epoch [1/10], Step [600/782], Loss: 2.0647, Accuracy: 32.72%\n",
      "Epoch [1/10], Step [700/782], Loss: 2.0558, Accuracy: 33.71%\n",
      "Epoch [2/10], Step [100/782], Loss: 2.0299, Accuracy: 42.69%\n",
      "Epoch [2/10], Step [200/782], Loss: 1.9985, Accuracy: 44.27%\n",
      "Epoch [2/10], Step [300/782], Loss: 2.0025, Accuracy: 44.58%\n",
      "Epoch [2/10], Step [400/782], Loss: 1.9947, Accuracy: 44.98%\n",
      "Epoch [2/10], Step [500/782], Loss: 2.0074, Accuracy: 44.95%\n",
      "Epoch [2/10], Step [600/782], Loss: 1.9873, Accuracy: 45.26%\n",
      "Epoch [2/10], Step [700/782], Loss: 1.9599, Accuracy: 45.91%\n",
      "Epoch [3/10], Step [100/782], Loss: 1.9536, Accuracy: 50.42%\n",
      "Epoch [3/10], Step [200/782], Loss: 1.9634, Accuracy: 49.87%\n",
      "Epoch [3/10], Step [300/782], Loss: 1.9527, Accuracy: 50.07%\n",
      "Epoch [3/10], Step [400/782], Loss: 1.9162, Accuracy: 51.11%\n",
      "Epoch [3/10], Step [500/782], Loss: 1.9184, Accuracy: 51.68%\n",
      "Epoch [3/10], Step [600/782], Loss: 1.9309, Accuracy: 51.84%\n",
      "Epoch [3/10], Step [700/782], Loss: 1.9189, Accuracy: 52.13%\n",
      "Epoch [4/10], Step [100/782], Loss: 1.9098, Accuracy: 54.87%\n",
      "Epoch [4/10], Step [200/782], Loss: 1.9013, Accuracy: 55.29%\n",
      "Epoch [4/10], Step [300/782], Loss: 1.9040, Accuracy: 55.27%\n",
      "Epoch [4/10], Step [400/782], Loss: 1.8808, Accuracy: 55.87%\n",
      "Epoch [4/10], Step [500/782], Loss: 1.8726, Accuracy: 56.41%\n",
      "Epoch [4/10], Step [600/782], Loss: 1.8863, Accuracy: 56.57%\n",
      "Epoch [4/10], Step [700/782], Loss: 1.8893, Accuracy: 56.64%\n",
      "Epoch [5/10], Step [100/782], Loss: 1.8967, Accuracy: 56.02%\n",
      "Epoch [5/10], Step [200/782], Loss: 1.8721, Accuracy: 57.35%\n",
      "Epoch [5/10], Step [300/782], Loss: 1.8767, Accuracy: 57.67%\n",
      "Epoch [5/10], Step [400/782], Loss: 1.8685, Accuracy: 57.97%\n",
      "Epoch [5/10], Step [500/782], Loss: 1.8640, Accuracy: 58.24%\n",
      "Epoch [5/10], Step [600/782], Loss: 1.8562, Accuracy: 58.58%\n",
      "Epoch [5/10], Step [700/782], Loss: 1.8400, Accuracy: 59.07%\n",
      "Epoch [6/10], Step [100/782], Loss: 1.8400, Accuracy: 61.56%\n",
      "Epoch [6/10], Step [200/782], Loss: 1.8265, Accuracy: 62.28%\n",
      "Epoch [6/10], Step [300/782], Loss: 1.8322, Accuracy: 62.45%\n",
      "Epoch [6/10], Step [400/782], Loss: 1.8480, Accuracy: 62.12%\n",
      "Epoch [6/10], Step [500/782], Loss: 1.8314, Accuracy: 62.23%\n",
      "Epoch [6/10], Step [600/782], Loss: 1.8357, Accuracy: 62.28%\n",
      "Epoch [6/10], Step [700/782], Loss: 1.8420, Accuracy: 62.21%\n",
      "Epoch [7/10], Step [100/782], Loss: 1.8190, Accuracy: 64.05%\n",
      "Epoch [7/10], Step [200/782], Loss: 1.8306, Accuracy: 63.30%\n",
      "Epoch [7/10], Step [300/782], Loss: 1.8179, Accuracy: 63.60%\n",
      "Epoch [7/10], Step [400/782], Loss: 1.8010, Accuracy: 64.17%\n",
      "Epoch [7/10], Step [500/782], Loss: 1.8118, Accuracy: 64.28%\n",
      "Epoch [7/10], Step [600/782], Loss: 1.8285, Accuracy: 64.09%\n",
      "Epoch [8/10], Step [100/782], Loss: 1.7967, Accuracy: 66.30%\n",
      "Epoch [8/10], Step [200/782], Loss: 1.7989, Accuracy: 66.20%\n",
      "Epoch [8/10], Step [300/782], Loss: 1.8207, Accuracy: 65.40%\n",
      "Epoch [8/10], Step [400/782], Loss: 1.8066, Accuracy: 65.32%\n",
      "Epoch [8/10], Step [500/782], Loss: 1.7957, Accuracy: 65.53%\n",
      "Epoch [8/10], Step [600/782], Loss: 1.8008, Accuracy: 65.56%\n",
      "Epoch [8/10], Step [700/782], Loss: 1.8032, Accuracy: 65.57%\n",
      "Epoch [9/10], Step [100/782], Loss: 1.8242, Accuracy: 63.33%\n",
      "Epoch [9/10], Step [200/782], Loss: 1.8048, Accuracy: 64.34%\n",
      "Epoch [9/10], Step [300/782], Loss: 1.7908, Accuracy: 65.14%\n",
      "Epoch [9/10], Step [400/782], Loss: 1.7885, Accuracy: 65.63%\n",
      "Epoch [9/10], Step [500/782], Loss: 1.7761, Accuracy: 66.20%\n",
      "Epoch [9/10], Step [600/782], Loss: 1.8028, Accuracy: 66.12%\n",
      "Epoch [9/10], Step [700/782], Loss: 1.7913, Accuracy: 66.22%\n",
      "Epoch [10/10], Step [100/782], Loss: 1.7773, Accuracy: 68.28%\n",
      "Epoch [10/10], Step [200/782], Loss: 1.7983, Accuracy: 67.23%\n",
      "Epoch [10/10], Step [300/782], Loss: 1.7889, Accuracy: 67.17%\n",
      "Epoch [10/10], Step [400/782], Loss: 1.8003, Accuracy: 66.82%\n",
      "Epoch [10/10], Step [500/782], Loss: 1.7998, Accuracy: 66.65%\n",
      "Epoch [10/10], Step [600/782], Loss: 1.7730, Accuracy: 67.01%\n",
      "Epoch [10/10], Step [700/782], Loss: 1.7971, Accuracy: 66.89%\n",
      "Finished Training\n"
     ]
    }
   ],
   "source": [
    "#Training part\n",
    "\n",
    "for epoch in range(num_epochs):\n",
    "    running_loss = 0.0\n",
    "    correct = 0\n",
    "    total = 0\n",
    "\n",
    "    for i, data in enumerate(trainloader, 0):\n",
    "        inputs, labels = data\n",
    "\n",
    "        # Zero the parameter gradients\n",
    "        optimizer.zero_grad()\n",
    "\n",
    "        # Forward pass\n",
    "        outputs = model(inputs)\n",
    "\n",
    "        # Calculating the loss\n",
    "        loss = criterion(outputs, labels)\n",
    "\n",
    "        # Backward pass and optimize\n",
    "        loss.backward()\n",
    "        optimizer.step()\n",
    "\n",
    "        # Statistics\n",
    "        running_loss += loss.item()\n",
    "        _, predicted = torch.max(outputs.data, 1)\n",
    "        total += labels.size(0)\n",
    "        correct += (predicted == labels).sum().item()\n",
    "\n",
    "        # Print the process every 1000 mini-batches\n",
    "        if (i + 1) % 100 == 0:\n",
    "            print(f\"Epoch [{epoch + 1}/{num_epochs}], Step [{i + 1}/{len(trainloader)}], Loss: {running_loss / 100:.4f}, Accuracy: {(correct / total) * 100:.2f}%\")\n",
    "            running_loss = 0.0\n",
    "\n",
    "print('Finished Training')"
   ]
  },
  {
   "cell_type": "code",
   "execution_count": 14,
   "metadata": {
    "colab": {
     "base_uri": "https://localhost:8080/"
    },
    "id": "IMT9O-P6KfFx",
    "outputId": "2ef3aa7c-392d-4f14-d115-0414021867cf"
   },
   "outputs": [
    {
     "name": "stdout",
     "output_type": "stream",
     "text": [
      "Test Accuracy: 65.31%\n"
     ]
    }
   ],
   "source": [
    "#Testing \n",
    "\n",
    "model.eval()\n",
    "correct = 0\n",
    "total = 0\n",
    "with torch.no_grad():\n",
    "    for data in testloader:\n",
    "        images, labels = data\n",
    "        outputs = model(images)\n",
    "        _, predicted = torch.max(outputs.data, 1)\n",
    "        total += labels.size(0)\n",
    "        correct += (predicted == labels).sum().item()\n",
    "\n",
    "test_accuracy = correct / total\n",
    "print(f'Test Accuracy: {test_accuracy * 100:.2f}%')"
   ]
  },
  {
   "cell_type": "code",
   "execution_count": 15,
   "metadata": {
    "id": "DZjyM4DOKifg"
   },
   "outputs": [],
   "source": [
    "#I did not store the loss values in the training sadly and since it takes a lot to train again,\n",
    "#I created the list below by hand to be able to draw the loss/epoch_num graph to show results.\n",
    "\n",
    "loss_values =[2.2407, 2.0558, 1.9599, 1.9189, 1.8893, 1.8400, 1.8420, 1.8285, 1.8032, 1.7913, 1.7971]\n",
    "epochs = [0, 1, 2, 3, 4, 5, 6, 7, 8, 9, 10]"
   ]
  },
  {
   "cell_type": "code",
   "execution_count": 17,
   "metadata": {
    "colab": {
     "base_uri": "https://localhost:8080/",
     "height": 472
    },
    "id": "gLx1XnUFZru4",
    "outputId": "d95f4ff9-2125-4a47-888f-28b1978b7fc7"
   },
   "outputs": [
    {
     "data": {
      "image/png": "[encoded data removed]",
      "text/plain": [
       "<Figure size 640x480 with 1 Axes>"
      ]
     },
     "metadata": {},
     "output_type": "display_data"
    }
   ],
   "source": [
    "plt.plot(epochs, loss_values, marker='o', linestyle='-')\n",
    "plt.title('Loss Values Over Epochs')\n",
    "plt.xlabel('Epochs')\n",
    "plt.ylabel('Loss')\n",
    "plt.grid(True)\n",
    "plt.show()"
   ]
  },
  {
   "attachments": {},
   "cell_type": "markdown",
   "metadata": {
    "id": "kfOF6kpcgxn4"
   },
   "source": []
  }
 ],
 "metadata": {
  "colab": {
   "provenance": []
  },
  "kernelspec": {
   "display_name": "Python 3 (ipykernel)",
   "language": "python",
   "name": "python3"
  },
  "language_info": {
   "codemirror_mode": {
    "name": "ipython",
    "version": 3
   },
   "file_extension": ".py",
   "mimetype": "text/x-python",
   "name": "python",
   "nbconvert_exporter": "python",
   "pygments_lexer": "ipython3",
   "version": "3.11.5"
  }
 },
 "nbformat": 4,
 "nbformat_minor": 1
}
